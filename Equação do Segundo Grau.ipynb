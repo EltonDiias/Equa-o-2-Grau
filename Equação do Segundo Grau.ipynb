{
 "cells": [
  {
   "cell_type": "code",
   "execution_count": 25,
   "id": "c52e013b",
   "metadata": {},
   "outputs": [],
   "source": [
    "def equacao_2_grau(a, b, c):\n",
    "    from fractions import Fraction\n",
    "    \n",
    "    a = float(a)\n",
    "    b = float(b)\n",
    "    c = float(c)\n",
    "    if type(a) != float or type(b) != float or type(c) != float:\n",
    "        return \"Preencha corretamente os campos!\"\n",
    "    else:\n",
    "        delta = (b**2) - 4 * a * c\n",
    "        if delta > 0:\n",
    "            x1 = Fraction((- b + (delta**(1/2))) / (2 * a)).limit_denominator()\n",
    "            x2 = Fraction((- b - (delta**(1/2))) / (2 * a)).limit_denominator()\n",
    "            return f\"x' = {x1} e x'' = {x2}.\"\n",
    "        elif delta < 0:\n",
    "            return 'Delta negativo: a equação não possui uma raíz real'\n",
    "        else:\n",
    "            x =  (- b) / (2 * a)\n",
    "            return f\"x = {x}.\""
   ]
  },
  {
   "cell_type": "code",
   "execution_count": 24,
   "id": "29624b13",
   "metadata": {},
   "outputs": [
    {
     "name": "stdout",
     "output_type": "stream",
     "text": [
      "1/3\n"
     ]
    }
   ],
   "source": [
    "a = 3\n",
    "b = -7\n",
    "c = 2\n",
    "delta = (b**2) - 4 * a * c\n",
    "print(Fraction((- b - (delta**(1/2))) / (2 * a)).limit_denominator())"
   ]
  },
  {
   "cell_type": "code",
   "execution_count": 19,
   "id": "bcf42c02",
   "metadata": {},
   "outputs": [
    {
     "name": "stdout",
     "output_type": "stream",
     "text": [
      "6/5\n"
     ]
    }
   ],
   "source": [
    "from fractions import Fraction\n",
    "print(Fraction(1.2).limit_denominator())"
   ]
  },
  {
   "cell_type": "code",
   "execution_count": 26,
   "id": "af946d1f",
   "metadata": {},
   "outputs": [
    {
     "data": {
      "text/plain": [
       "\"x' = 2 e x'' = 1/3.\""
      ]
     },
     "execution_count": 26,
     "metadata": {},
     "output_type": "execute_result"
    }
   ],
   "source": [
    "equacao_2_grau(3, -7, 2)"
   ]
  }
 ],
 "metadata": {
  "kernelspec": {
   "display_name": "Python 3 (ipykernel)",
   "language": "python",
   "name": "python3"
  },
  "language_info": {
   "codemirror_mode": {
    "name": "ipython",
    "version": 3
   },
   "file_extension": ".py",
   "mimetype": "text/x-python",
   "name": "python",
   "nbconvert_exporter": "python",
   "pygments_lexer": "ipython3",
   "version": "3.9.7"
  }
 },
 "nbformat": 4,
 "nbformat_minor": 5
}
